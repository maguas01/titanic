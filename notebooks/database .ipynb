{
 "cells": [
  {
   "cell_type": "markdown",
   "metadata": {},
   "source": [
    "## general flow of using a database\n",
    "    - import package_name # import the package\n",
    "    - connection = package_name.connect(con_str) # connect to the database\n",
    "    - cursor = package_name.cursor # create the cursor\n",
    "    - cursor.execute(query)  # execute the query\n",
    "    - cursor.fetchall() # fetch the results \n",
    "    - connection.close() #close the connection  \n"
   ]
  },
  {
   "cell_type": "code",
   "execution_count": 2,
   "metadata": {},
   "outputs": [],
   "source": [
    "%config IPCompleter.greedy=True\n",
    "# open a connection to a database\n",
    "import sqlite3\n",
    "\n",
    "con = sqlite3.connect(\"classroomDB.db\")\n",
    "con.close()"
   ]
  },
  {
   "cell_type": "markdown",
   "metadata": {},
   "source": [
    "# create a table\n"
   ]
  },
  {
   "cell_type": "code",
   "execution_count": 7,
   "metadata": {},
   "outputs": [],
   "source": [
    "con = sqlite3.connect(\"classroomDB.db\")\n",
    "cur = con.cursor()\n",
    "\n",
    "#create the table\n",
    "create_table = \"\"\"\n",
    "                    create table classroom(\n",
    "                    student_id integer primary key,\n",
    "                    name varchar(20),\n",
    "                    gender char(1),\n",
    "                    marks integer\n",
    "                    ); \"\"\"\n",
    "#execute query\n",
    "cur.execute(create_table)\n",
    "\n",
    "#comit the change\n",
    "con.commit()\n",
    "\n",
    "#close the connection\n",
    "con.close()\n"
   ]
  },
  {
   "cell_type": "markdown",
   "metadata": {},
   "source": [
    "# insert some data"
   ]
  },
  {
   "cell_type": "code",
   "execution_count": 11,
   "metadata": {},
   "outputs": [],
   "source": [
    "# made up data\n",
    "                    # (id, name, gender, marks )\n",
    "class_data = [(1, \"manny\", \"M\", 100 ), (2, \"dan\", \"G\", 20), (3, \"raquel\", \"F\", 90), (4, \"betty\", \"F\", 99)]\n",
    "\n",
    "#open a connection\n",
    "con = sqlite3.connect(\"classroomDB.db\")\n",
    "\n",
    "#open a curson\n",
    "cur = con.cursor()\n",
    "\n",
    "#insert the student records\n",
    "for student in class_data : \n",
    "    insert_statement = \"\"\"insert into classroom\n",
    "                                        (student_id, name, gender, marks) values({0}, \"{1}\", \"{2}\", {3});\n",
    "                                        \"\"\".format(student[0], student[1], student[2], student[3])\n",
    "    #execute the query\n",
    "    cur.execute(insert_statement)\n",
    "    \n",
    "#commit the change     \n",
    "con.commit()\n",
    "\n",
    "#close the connection\n",
    "con.close()\n",
    "\n"
   ]
  },
  {
   "cell_type": "markdown",
   "metadata": {},
   "source": [
    "# extract data from a database "
   ]
  },
  {
   "cell_type": "code",
   "execution_count": 12,
   "metadata": {},
   "outputs": [],
   "source": [
    "%config IPCompleter.greedy=True"
   ]
  },
  {
   "cell_type": "code",
   "execution_count": 14,
   "metadata": {},
   "outputs": [
    {
     "name": "stdout",
     "output_type": "stream",
     "text": [
      "(1, u'manny', u'M', 100)\n",
      "(2, u'dan', u'G', 20)\n",
      "(3, u'raquel', u'F', 90)\n",
      "(4, u'betty', u'F', 99)\n"
     ]
    }
   ],
   "source": [
    "#open connection\n",
    "con = sqlite3.connect(\"classroomDB.db\")\n",
    "\n",
    "#open a cursor\n",
    "cur = con.cursor()\n",
    "\n",
    "#query\n",
    "query = \"select * from classroom\"\n",
    "\n",
    "#excecute the query\n",
    "cur.execute(query)\n",
    "\n",
    "# fetch all the results \n",
    "results = cur.fetchall()\n",
    "\n",
    "# print the results\n",
    "for row in results : \n",
    "    print (row)\n",
    "    \n",
    "#close the connection\n",
    "con.close()\n"
   ]
  },
  {
   "cell_type": "code",
   "execution_count": null,
   "metadata": {},
   "outputs": [],
   "source": []
  }
 ],
 "metadata": {
  "kernelspec": {
   "display_name": "Python 2",
   "language": "python",
   "name": "python2"
  },
  "language_info": {
   "codemirror_mode": {
    "name": "ipython",
    "version": 2
   },
   "file_extension": ".py",
   "mimetype": "text/x-python",
   "name": "python",
   "nbconvert_exporter": "python",
   "pygments_lexer": "ipython2",
   "version": "2.7.15"
  }
 },
 "nbformat": 4,
 "nbformat_minor": 2
}

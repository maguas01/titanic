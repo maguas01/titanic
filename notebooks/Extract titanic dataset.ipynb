{
 "cells": [
  {
   "cell_type": "code",
   "execution_count": 2,
   "metadata": {},
   "outputs": [
    {
     "name": "stdout",
     "output_type": "stream",
     "text": [
      "Collecting python-dotenv\n",
      "  Downloading https://files.pythonhosted.org/packages/85/9f/b76a51bb851fa25f7a162a16297f4473c67ec42dd55e4f7fc5b43913a606/python_dotenv-0.8.2-py2.py3-none-any.whl\n",
      "Installing collected packages: python-dotenv\n",
      "Successfully installed python-dotenv-0.8.2\n"
     ]
    },
    {
     "name": "stderr",
     "output_type": "stream",
     "text": [
      "You are using pip version 10.0.1, however version 18.0 is available.\n",
      "You should consider upgrading via the 'python -m pip install --upgrade pip' command.\n"
     ]
    }
   ],
   "source": [
    "#use information that is stored in the .env file, this file is not pushed onto github\n",
    "!pip install python-dotenv"
   ]
  },
  {
   "cell_type": "code",
   "execution_count": 4,
   "metadata": {},
   "outputs": [],
   "source": [
    "from dotenv import load_dotenv, find_dotenv"
   ]
  },
  {
   "cell_type": "code",
   "execution_count": 5,
   "metadata": {},
   "outputs": [
    {
     "data": {
      "text/plain": [
       "True"
      ]
     },
     "execution_count": 5,
     "metadata": {},
     "output_type": "execute_result"
    }
   ],
   "source": [
    "#find the .env automatically\n",
    "dotenv_path = find_dotenv()\n",
    "\n",
    "#load entries into enviroment variables \n",
    "load_dotenv(dotenv_path)"
   ]
  },
  {
   "cell_type": "code",
   "execution_count": 6,
   "metadata": {},
   "outputs": [
    {
     "name": "stdout",
     "output_type": "stream",
     "text": [
      "magu01\n"
     ]
    }
   ],
   "source": [
    "#extract enviromental variables \n",
    "import os\n",
    "kaggle_username = os.environ.get(\"kaggle_username\")\n",
    "print (kaggle_username)"
   ]
  },
  {
   "cell_type": "code",
   "execution_count": 8,
   "metadata": {},
   "outputs": [],
   "source": [
    "#imports\n",
    "import requests\n",
    "from requests import session\n",
    "import os\n",
    "from dotenv import load_dotenv, find_dotenv"
   ]
  },
  {
   "cell_type": "code",
   "execution_count": 12,
   "metadata": {},
   "outputs": [
    {
     "name": "stdout",
     "output_type": "stream",
     "text": [
      "200\n"
     ]
    }
   ],
   "source": [
    "#payload for post request\n",
    "payload = {\n",
    "    'action' : 'login', \n",
    "    'username' : os.environ.get(\"kaggle_username\"),\n",
    "    'password' : os.environ.get(\"kaggle_password\")\n",
    "}\n",
    "\n",
    "#url where we download titanic dataset\n",
    "url = 'https://www.kaggle.com/c/titanic/download/train.csv'\n",
    "\n",
    "#set up the session\n",
    "with session() as c : \n",
    "    #post the request\n",
    "    c.post('https://www.kaggle.com/account/login',data=payload)\n",
    "    #get the response\n",
    "    response = c.get(url)\n",
    "    print(response.status_code)"
   ]
  },
  {
   "cell_type": "markdown",
   "metadata": {},
   "source": [
    "# download the data as csv file "
   ]
  },
  {
   "cell_type": "code",
   "execution_count": 17,
   "metadata": {},
   "outputs": [],
   "source": [
    "#imports\n",
    "import requests\n",
    "from requests import session\n",
    "import os\n",
    "from dotenv import load_dotenv, find_dotenv\n",
    "\n",
    "#payload for post request\n",
    "payload = {\n",
    "    'action' : 'login', \n",
    "    'username' : os.environ.get(\"kaggle_username\"),\n",
    "    'password' : os.environ.get(\"kaggle_password\")\n",
    "}\n",
    "\n",
    "def extract_data(url, file_path) : \n",
    "    '''\n",
    "    extract data from kaggle\n",
    "    '''\n",
    "    #set up a session \n",
    "    with session() as c : \n",
    "        c.post('https://www.kaggle.com/account/login',data=payload)\n",
    "        #open a file to write to \n",
    "        with open(file_path, 'w') as handle : \n",
    "            response = c.get(url, stream=True)\n",
    "            for block in response.iter_content(1024) : \n",
    "                handle.write(block)\n",
    "                "
   ]
  },
  {
   "cell_type": "code",
   "execution_count": 18,
   "metadata": {},
   "outputs": [],
   "source": [
    "train_url = 'https://www.kaggle.com/c/titanic/train.csv'\n",
    "test_url = 'https://www.kaggle.com/c/titanic/test.csv'\n",
    "\n",
    "#paths\n",
    "raw_data_path = os.path.join(os.path.pardir, 'data', 'raw')\n",
    "train_data_path = os.path.join(raw_data_path, 'train.csv')\n",
    "test_data_path = os.path.join(raw_data_path, 'test.csv')\n",
    "\n",
    "#extract data\n",
    "extract_data(train_url, train_data_path)\n",
    "extract_data(test_url, test_data_path)"
   ]
  },
  {
   "cell_type": "code",
   "execution_count": 20,
   "metadata": {},
   "outputs": [
    {
     "name": "stdout",
     "output_type": "stream",
     "text": [
      "total 24\n",
      "-rw-r--r-- 1 home 197121 8793 Jul 26 23:49 test.csv\n",
      "-rw-r--r-- 1 home 197121 8793 Jul 26 23:49 train.csv\n"
     ]
    }
   ],
   "source": [
    "!ls -l ../data/raw"
   ]
  },
  {
   "cell_type": "markdown",
   "metadata": {},
   "source": [
    "# write a script to to download data\n"
   ]
  },
  {
   "cell_type": "code",
   "execution_count": 24,
   "metadata": {},
   "outputs": [],
   "source": [
    "get_raw_data_script_file = os.path.join(os.path.pardir, 'src', 'data', 'get_raw_data.py')\n"
   ]
  },
  {
   "cell_type": "code",
   "execution_count": 27,
   "metadata": {},
   "outputs": [
    {
     "name": "stdout",
     "output_type": "stream",
     "text": [
      "Overwriting ..\\src\\data\\get_raw_data.py\n"
     ]
    }
   ],
   "source": [
    "%%writefile $get_raw_data_script_file\n",
    "# -*-  coding: utf-8 -*-\n",
    "#imports\n",
    "import requests\n",
    "from requests import session\n",
    "import os\n",
    "from dotenv import load_dotenv, find_dotenv\n",
    "import logging\n",
    "\n",
    "#payload for post request\n",
    "payload = {\n",
    "    'action' : 'login', \n",
    "    'username' : os.environ.get(\"kaggle_username\"),\n",
    "    'password' : os.environ.get(\"kaggle_password\")\n",
    "}\n",
    "\n",
    "def extract_data(url, file_path) : \n",
    "    '''\n",
    "    extract data from kaggle\n",
    "    '''\n",
    "    #set up a session \n",
    "    with session() as c : \n",
    "        c.post('https://www.kaggle.com/account/login',data=payload)\n",
    "        #open a file to write to \n",
    "        with open(file_path, 'w') as handle : \n",
    "            response = c.get(url, stream=True)\n",
    "            for block in response.iter_content(1024) : \n",
    "                handle.write(block)\n",
    "                \n",
    "def main(project_dir) : \n",
    "    '''\n",
    "    main method\n",
    "    '''\n",
    "    logger = logging.getLogger(__name__)\n",
    "    logger.info('getting raw data')\n",
    "    \n",
    "    #urls\n",
    "    train_url = 'https://www.kaggle.com/c/titanic/train.csv'\n",
    "    test_url = 'https://www.kaggle.com/c/titanic/test.csv'\n",
    "    \n",
    "    # file paths\n",
    "    raw_data_path = os.path.join(os.path.pardir, 'data', 'raw')\n",
    "    train_data_path = os.path.join(raw_data_path, 'train.csv')\n",
    "    test_data_path = os.path.join(raw_data_path, 'test.csv')\n",
    "    \n",
    "    #extract data\n",
    "    extract_data(train_url, train_data_path)\n",
    "    extract_data(test_url, test_data_path)\n",
    "    logger.info('downloaded the raw training and test data')\n",
    "    \n",
    "if __name__ == '__main__': \n",
    "    project_dir = os.path.join(os.path.dirname(__file__), os.pardir, os.pardir)\n",
    "    \n",
    "    #logger\n",
    "    log_fmt = '%(asctime)s - %(name)s - %(levelname)s - %(message)s'\n",
    "    logging.basicConfig(level=logging.INFO, format=log_fmt)\n",
    "    \n",
    "    #find the .env\n",
    "    dotenv_path = find_dotenv()\n",
    "    #load the variables \n",
    "    load_dotenv(dotenv_path)\n",
    "    \n",
    "    \n",
    "    #call main\n",
    "    main(project_dir)"
   ]
  },
  {
   "cell_type": "code",
   "execution_count": 28,
   "metadata": {},
   "outputs": [
    {
     "name": "stderr",
     "output_type": "stream",
     "text": [
      "2018-07-27 00:17:23,663 - __main__ - INFO - getting raw data\n",
      "2018-07-27 00:17:24,467 - __main__ - INFO - downloaded the raw training and test data\n"
     ]
    }
   ],
   "source": [
    "!python $get_raw_data_script_file"
   ]
  },
  {
   "cell_type": "markdown",
   "metadata": {},
   "source": [
    "## public data sets \n",
    "data.gov, aws public data sets, university of california ernwin, github.com/caesar0301/awesome-public-datasets"
   ]
  },
  {
   "cell_type": "code",
   "execution_count": null,
   "metadata": {},
   "outputs": [],
   "source": []
  }
 ],
 "metadata": {
  "kernelspec": {
   "display_name": "Python 2",
   "language": "python",
   "name": "python2"
  },
  "language_info": {
   "codemirror_mode": {
    "name": "ipython",
    "version": 2
   },
   "file_extension": ".py",
   "mimetype": "text/x-python",
   "name": "python",
   "nbconvert_exporter": "python",
   "pygments_lexer": "ipython2",
   "version": "2.7.15"
  }
 },
 "nbformat": 4,
 "nbformat_minor": 2
}
